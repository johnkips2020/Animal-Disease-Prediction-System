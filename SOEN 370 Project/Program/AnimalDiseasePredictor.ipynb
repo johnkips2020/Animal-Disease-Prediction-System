{
 "cells": [
  {
   "cell_type": "code",
   "execution_count": 1,
   "metadata": {
    "collapsed": true
   },
   "outputs": [],
   "source": [
    "import pandas as pd\n",
    "from sklearn.preprocessing import OneHotEncoder\n",
    "from sklearn.compose import make_column_transformer\n",
    "from sklearn.model_selection import train_test_split\n",
    "from sklearn.preprocessing import LabelEncoder\n",
    "from sklearn.ensemble import RandomForestClassifier\n",
    "from sklearn.tree import DecisionTreeClassifier\n",
    "from sklearn.pipeline import make_pipeline\n",
    "import numpy as np\n",
    "import matplotlib.pyplot as plt"
   ]
  },
  {
   "cell_type": "code",
   "execution_count": 2,
   "outputs": [
    {
     "data": {
      "text/plain": "  AnimalName symptoms1             symptoms2 symptoms3    symptoms4  \\\n0        Dog     Fever              Diarrhea  Vomiting  Weight loss   \n1        Dog     Fever              Diarrhea  Coughing    Tiredness   \n2        Dog     Fever              Diarrhea  Coughing     Vomiting   \n3        Dog     Fever  Difficulty breathing  Coughing     Lethargy   \n4        Dog     Fever              Diarrhea  Coughing     Lethargy   \n\n     symptoms5 Dangerous                      Disease  \n0  Dehydration       Yes            Canine Parvovirus  \n1        Pains       Yes           Canine Coronavirus  \n2     Anorexia       Yes            Canine Distemper   \n3     Sneezing       Yes             Canine Influenza  \n4     Blue Eye       Yes  Infectious canine hepatitis  ",
      "text/html": "<div>\n<style scoped>\n    .dataframe tbody tr th:only-of-type {\n        vertical-align: middle;\n    }\n\n    .dataframe tbody tr th {\n        vertical-align: top;\n    }\n\n    .dataframe thead th {\n        text-align: right;\n    }\n</style>\n<table border=\"1\" class=\"dataframe\">\n  <thead>\n    <tr style=\"text-align: right;\">\n      <th></th>\n      <th>AnimalName</th>\n      <th>symptoms1</th>\n      <th>symptoms2</th>\n      <th>symptoms3</th>\n      <th>symptoms4</th>\n      <th>symptoms5</th>\n      <th>Dangerous</th>\n      <th>Disease</th>\n    </tr>\n  </thead>\n  <tbody>\n    <tr>\n      <th>0</th>\n      <td>Dog</td>\n      <td>Fever</td>\n      <td>Diarrhea</td>\n      <td>Vomiting</td>\n      <td>Weight loss</td>\n      <td>Dehydration</td>\n      <td>Yes</td>\n      <td>Canine Parvovirus</td>\n    </tr>\n    <tr>\n      <th>1</th>\n      <td>Dog</td>\n      <td>Fever</td>\n      <td>Diarrhea</td>\n      <td>Coughing</td>\n      <td>Tiredness</td>\n      <td>Pains</td>\n      <td>Yes</td>\n      <td>Canine Coronavirus</td>\n    </tr>\n    <tr>\n      <th>2</th>\n      <td>Dog</td>\n      <td>Fever</td>\n      <td>Diarrhea</td>\n      <td>Coughing</td>\n      <td>Vomiting</td>\n      <td>Anorexia</td>\n      <td>Yes</td>\n      <td>Canine Distemper</td>\n    </tr>\n    <tr>\n      <th>3</th>\n      <td>Dog</td>\n      <td>Fever</td>\n      <td>Difficulty breathing</td>\n      <td>Coughing</td>\n      <td>Lethargy</td>\n      <td>Sneezing</td>\n      <td>Yes</td>\n      <td>Canine Influenza</td>\n    </tr>\n    <tr>\n      <th>4</th>\n      <td>Dog</td>\n      <td>Fever</td>\n      <td>Diarrhea</td>\n      <td>Coughing</td>\n      <td>Lethargy</td>\n      <td>Blue Eye</td>\n      <td>Yes</td>\n      <td>Infectious canine hepatitis</td>\n    </tr>\n  </tbody>\n</table>\n</div>"
     },
     "execution_count": 2,
     "metadata": {},
     "output_type": "execute_result"
    }
   ],
   "source": [
    "data = pd.read_csv('Animal_Disease_dataset.csv')\n",
    "data.head()"
   ],
   "metadata": {
    "collapsed": false
   }
  },
  {
   "cell_type": "code",
   "execution_count": 3,
   "outputs": [
    {
     "data": {
      "text/plain": "(494, 8)"
     },
     "execution_count": 3,
     "metadata": {},
     "output_type": "execute_result"
    }
   ],
   "source": [
    "data.shape"
   ],
   "metadata": {
    "collapsed": false
   }
  },
  {
   "cell_type": "code",
   "execution_count": 4,
   "outputs": [
    {
     "data": {
      "text/plain": "494"
     },
     "execution_count": 4,
     "metadata": {},
     "output_type": "execute_result"
    }
   ],
   "source": [
    "len(data)"
   ],
   "metadata": {
    "collapsed": false
   }
  },
  {
   "cell_type": "code",
   "execution_count": 5,
   "outputs": [
    {
     "data": {
      "text/plain": "<bound method NDFrame._add_numeric_operations.<locals>.any of      AnimalName  symptoms1  symptoms2  symptoms3  symptoms4  symptoms5  \\\n0         False      False      False      False      False      False   \n1         False      False      False      False      False      False   \n2         False      False      False      False      False      False   \n3         False      False      False      False      False      False   \n4         False      False      False      False      False      False   \n..          ...        ...        ...        ...        ...        ...   \n489       False      False      False      False      False      False   \n490       False      False      False      False      False      False   \n491       False      False      False      False      False      False   \n492       False      False      False      False      False      False   \n493       False      False      False      False      False      False   \n\n     Dangerous  Disease  \n0        False    False  \n1        False    False  \n2        False    False  \n3        False    False  \n4        False    False  \n..         ...      ...  \n489      False    False  \n490      False    False  \n491      False    False  \n492      False    False  \n493      False    False  \n\n[494 rows x 8 columns]>"
     },
     "execution_count": 5,
     "metadata": {},
     "output_type": "execute_result"
    }
   ],
   "source": [
    "data.isnull().any"
   ],
   "metadata": {
    "collapsed": false
   }
  },
  {
   "cell_type": "code",
   "execution_count": 6,
   "outputs": [],
   "source": [
    "x=data.drop(['Dangerous', 'Disease'], axis=1)"
   ],
   "metadata": {
    "collapsed": false
   }
  },
  {
   "cell_type": "code",
   "execution_count": 7,
   "outputs": [
    {
     "data": {
      "text/plain": "(494, 6)"
     },
     "execution_count": 7,
     "metadata": {},
     "output_type": "execute_result"
    }
   ],
   "source": [
    "y=data.Disease\n",
    "x.shape"
   ],
   "metadata": {
    "collapsed": false
   }
  },
  {
   "cell_type": "code",
   "execution_count": 8,
   "outputs": [
    {
     "data": {
      "text/plain": "(494,)"
     },
     "execution_count": 8,
     "metadata": {},
     "output_type": "execute_result"
    }
   ],
   "source": [
    "y.shape"
   ],
   "metadata": {
    "collapsed": false
   }
  },
  {
   "cell_type": "code",
   "execution_count": 9,
   "outputs": [],
   "source": [
    "x_train,x_test,y_train,y_test=train_test_split(x,y, test_size=.1, random_state=1)"
   ],
   "metadata": {
    "collapsed": false
   }
  },
  {
   "cell_type": "code",
   "execution_count": 10,
   "outputs": [
    {
     "data": {
      "text/plain": "(444, 444)"
     },
     "execution_count": 10,
     "metadata": {},
     "output_type": "execute_result"
    }
   ],
   "source": [
    "len(x_train), len(y_train)"
   ],
   "metadata": {
    "collapsed": false
   }
  },
  {
   "cell_type": "code",
   "execution_count": 10,
   "outputs": [],
   "source": [],
   "metadata": {
    "collapsed": false
   }
  },
  {
   "cell_type": "code",
   "execution_count": 11,
   "outputs": [
    {
     "data": {
      "text/plain": "(50, 50)"
     },
     "execution_count": 11,
     "metadata": {},
     "output_type": "execute_result"
    }
   ],
   "source": [
    "len(x_test),len(y_test)"
   ],
   "metadata": {
    "collapsed": false
   }
  },
  {
   "cell_type": "code",
   "execution_count": 12,
   "outputs": [
    {
     "data": {
      "text/plain": "OneHotEncoder()",
      "text/html": "<style>#sk-container-id-1 {color: black;background-color: white;}#sk-container-id-1 pre{padding: 0;}#sk-container-id-1 div.sk-toggleable {background-color: white;}#sk-container-id-1 label.sk-toggleable__label {cursor: pointer;display: block;width: 100%;margin-bottom: 0;padding: 0.3em;box-sizing: border-box;text-align: center;}#sk-container-id-1 label.sk-toggleable__label-arrow:before {content: \"▸\";float: left;margin-right: 0.25em;color: #696969;}#sk-container-id-1 label.sk-toggleable__label-arrow:hover:before {color: black;}#sk-container-id-1 div.sk-estimator:hover label.sk-toggleable__label-arrow:before {color: black;}#sk-container-id-1 div.sk-toggleable__content {max-height: 0;max-width: 0;overflow: hidden;text-align: left;background-color: #f0f8ff;}#sk-container-id-1 div.sk-toggleable__content pre {margin: 0.2em;color: black;border-radius: 0.25em;background-color: #f0f8ff;}#sk-container-id-1 input.sk-toggleable__control:checked~div.sk-toggleable__content {max-height: 200px;max-width: 100%;overflow: auto;}#sk-container-id-1 input.sk-toggleable__control:checked~label.sk-toggleable__label-arrow:before {content: \"▾\";}#sk-container-id-1 div.sk-estimator input.sk-toggleable__control:checked~label.sk-toggleable__label {background-color: #d4ebff;}#sk-container-id-1 div.sk-label input.sk-toggleable__control:checked~label.sk-toggleable__label {background-color: #d4ebff;}#sk-container-id-1 input.sk-hidden--visually {border: 0;clip: rect(1px 1px 1px 1px);clip: rect(1px, 1px, 1px, 1px);height: 1px;margin: -1px;overflow: hidden;padding: 0;position: absolute;width: 1px;}#sk-container-id-1 div.sk-estimator {font-family: monospace;background-color: #f0f8ff;border: 1px dotted black;border-radius: 0.25em;box-sizing: border-box;margin-bottom: 0.5em;}#sk-container-id-1 div.sk-estimator:hover {background-color: #d4ebff;}#sk-container-id-1 div.sk-parallel-item::after {content: \"\";width: 100%;border-bottom: 1px solid gray;flex-grow: 1;}#sk-container-id-1 div.sk-label:hover label.sk-toggleable__label {background-color: #d4ebff;}#sk-container-id-1 div.sk-serial::before {content: \"\";position: absolute;border-left: 1px solid gray;box-sizing: border-box;top: 0;bottom: 0;left: 50%;z-index: 0;}#sk-container-id-1 div.sk-serial {display: flex;flex-direction: column;align-items: center;background-color: white;padding-right: 0.2em;padding-left: 0.2em;position: relative;}#sk-container-id-1 div.sk-item {position: relative;z-index: 1;}#sk-container-id-1 div.sk-parallel {display: flex;align-items: stretch;justify-content: center;background-color: white;position: relative;}#sk-container-id-1 div.sk-item::before, #sk-container-id-1 div.sk-parallel-item::before {content: \"\";position: absolute;border-left: 1px solid gray;box-sizing: border-box;top: 0;bottom: 0;left: 50%;z-index: -1;}#sk-container-id-1 div.sk-parallel-item {display: flex;flex-direction: column;z-index: 1;position: relative;background-color: white;}#sk-container-id-1 div.sk-parallel-item:first-child::after {align-self: flex-end;width: 50%;}#sk-container-id-1 div.sk-parallel-item:last-child::after {align-self: flex-start;width: 50%;}#sk-container-id-1 div.sk-parallel-item:only-child::after {width: 0;}#sk-container-id-1 div.sk-dashed-wrapped {border: 1px dashed gray;margin: 0 0.4em 0.5em 0.4em;box-sizing: border-box;padding-bottom: 0.4em;background-color: white;}#sk-container-id-1 div.sk-label label {font-family: monospace;font-weight: bold;display: inline-block;line-height: 1.2em;}#sk-container-id-1 div.sk-label-container {text-align: center;}#sk-container-id-1 div.sk-container {/* jupyter's `normalize.less` sets `[hidden] { display: none; }` but bootstrap.min.css set `[hidden] { display: none !important; }` so we also need the `!important` here to be able to override the default hidden behavior on the sphinx rendered scikit-learn.org. See: https://github.com/scikit-learn/scikit-learn/issues/21755 */display: inline-block !important;position: relative;}#sk-container-id-1 div.sk-text-repr-fallback {display: none;}</style><div id=\"sk-container-id-1\" class=\"sk-top-container\"><div class=\"sk-text-repr-fallback\"><pre>OneHotEncoder()</pre><b>In a Jupyter environment, please rerun this cell to show the HTML representation or trust the notebook. <br />On GitHub, the HTML representation is unable to render, please try loading this page with nbviewer.org.</b></div><div class=\"sk-container\" hidden><div class=\"sk-item\"><div class=\"sk-estimator sk-toggleable\"><input class=\"sk-toggleable__control sk-hidden--visually\" id=\"sk-estimator-id-1\" type=\"checkbox\" checked><label for=\"sk-estimator-id-1\" class=\"sk-toggleable__label sk-toggleable__label-arrow\">OneHotEncoder</label><div class=\"sk-toggleable__content\"><pre>OneHotEncoder()</pre></div></div></div></div></div>"
     },
     "execution_count": 12,
     "metadata": {},
     "output_type": "execute_result"
    }
   ],
   "source": [
    "onehot=OneHotEncoder()\n",
    "onehot.fit(x[['AnimalName','symptoms1','symptoms2','symptoms3','symptoms4','symptoms5']])"
   ],
   "metadata": {
    "collapsed": false
   }
  },
  {
   "cell_type": "code",
   "execution_count": 13,
   "outputs": [],
   "source": [
    "a=make_column_transformer((OneHotEncoder(categories=onehot.categories_,handle_unknown = 'ignore'),['AnimalName','symptoms1','symptoms2','symptoms3','symptoms4','symptoms5']),remainder='passthrough')"
   ],
   "metadata": {
    "collapsed": false
   }
  },
  {
   "cell_type": "code",
   "execution_count": 14,
   "outputs": [],
   "source": [
    "model = RandomForestClassifier()"
   ],
   "metadata": {
    "collapsed": false
   }
  },
  {
   "cell_type": "code",
   "execution_count": 15,
   "outputs": [],
   "source": [
    "dtree= DecisionTreeClassifier()"
   ],
   "metadata": {
    "collapsed": false
   }
  },
  {
   "cell_type": "markdown",
   "source": [],
   "metadata": {
    "collapsed": false
   }
  },
  {
   "cell_type": "code",
   "execution_count": 16,
   "outputs": [
    {
     "data": {
      "text/plain": "Pipeline(steps=[('columntransformer',\n                 ColumnTransformer(remainder='passthrough',\n                                   transformers=[('onehotencoder',\n                                                  OneHotEncoder(categories=[array(['Cattle', 'Chicken', 'Dog', 'Dogs', 'Donkey', 'Duck', 'Fowl',\n       'Goat', 'Goats', 'Horse', 'Other Birds', 'Pig', 'Pigs', 'Rabbit',\n       'Sheep', 'cat', 'cattle', 'chicken', 'cow', 'donkey', 'duck',\n       'horse'], dtype=object),\n                                                                            array([' abortion...\n       'lameness', 'loss of\\xa0wariness', 'recumbency',\n       'restless movement', 'slow growth', 'sudden death',\n       'swollen abdomen', 'trembling', 'twisted neck', 'weakness',\n       '\\xa0increased passing gas', '\\xa0pain and bloating'], dtype=object)],\n                                                                handle_unknown='ignore'),\n                                                  ['AnimalName', 'symptoms1',\n                                                   'symptoms2', 'symptoms3',\n                                                   'symptoms4',\n                                                   'symptoms5'])])),\n                ('randomforestclassifier', RandomForestClassifier())])",
      "text/html": "<style>#sk-container-id-2 {color: black;background-color: white;}#sk-container-id-2 pre{padding: 0;}#sk-container-id-2 div.sk-toggleable {background-color: white;}#sk-container-id-2 label.sk-toggleable__label {cursor: pointer;display: block;width: 100%;margin-bottom: 0;padding: 0.3em;box-sizing: border-box;text-align: center;}#sk-container-id-2 label.sk-toggleable__label-arrow:before {content: \"▸\";float: left;margin-right: 0.25em;color: #696969;}#sk-container-id-2 label.sk-toggleable__label-arrow:hover:before {color: black;}#sk-container-id-2 div.sk-estimator:hover label.sk-toggleable__label-arrow:before {color: black;}#sk-container-id-2 div.sk-toggleable__content {max-height: 0;max-width: 0;overflow: hidden;text-align: left;background-color: #f0f8ff;}#sk-container-id-2 div.sk-toggleable__content pre {margin: 0.2em;color: black;border-radius: 0.25em;background-color: #f0f8ff;}#sk-container-id-2 input.sk-toggleable__control:checked~div.sk-toggleable__content {max-height: 200px;max-width: 100%;overflow: auto;}#sk-container-id-2 input.sk-toggleable__control:checked~label.sk-toggleable__label-arrow:before {content: \"▾\";}#sk-container-id-2 div.sk-estimator input.sk-toggleable__control:checked~label.sk-toggleable__label {background-color: #d4ebff;}#sk-container-id-2 div.sk-label input.sk-toggleable__control:checked~label.sk-toggleable__label {background-color: #d4ebff;}#sk-container-id-2 input.sk-hidden--visually {border: 0;clip: rect(1px 1px 1px 1px);clip: rect(1px, 1px, 1px, 1px);height: 1px;margin: -1px;overflow: hidden;padding: 0;position: absolute;width: 1px;}#sk-container-id-2 div.sk-estimator {font-family: monospace;background-color: #f0f8ff;border: 1px dotted black;border-radius: 0.25em;box-sizing: border-box;margin-bottom: 0.5em;}#sk-container-id-2 div.sk-estimator:hover {background-color: #d4ebff;}#sk-container-id-2 div.sk-parallel-item::after {content: \"\";width: 100%;border-bottom: 1px solid gray;flex-grow: 1;}#sk-container-id-2 div.sk-label:hover label.sk-toggleable__label {background-color: #d4ebff;}#sk-container-id-2 div.sk-serial::before {content: \"\";position: absolute;border-left: 1px solid gray;box-sizing: border-box;top: 0;bottom: 0;left: 50%;z-index: 0;}#sk-container-id-2 div.sk-serial {display: flex;flex-direction: column;align-items: center;background-color: white;padding-right: 0.2em;padding-left: 0.2em;position: relative;}#sk-container-id-2 div.sk-item {position: relative;z-index: 1;}#sk-container-id-2 div.sk-parallel {display: flex;align-items: stretch;justify-content: center;background-color: white;position: relative;}#sk-container-id-2 div.sk-item::before, #sk-container-id-2 div.sk-parallel-item::before {content: \"\";position: absolute;border-left: 1px solid gray;box-sizing: border-box;top: 0;bottom: 0;left: 50%;z-index: -1;}#sk-container-id-2 div.sk-parallel-item {display: flex;flex-direction: column;z-index: 1;position: relative;background-color: white;}#sk-container-id-2 div.sk-parallel-item:first-child::after {align-self: flex-end;width: 50%;}#sk-container-id-2 div.sk-parallel-item:last-child::after {align-self: flex-start;width: 50%;}#sk-container-id-2 div.sk-parallel-item:only-child::after {width: 0;}#sk-container-id-2 div.sk-dashed-wrapped {border: 1px dashed gray;margin: 0 0.4em 0.5em 0.4em;box-sizing: border-box;padding-bottom: 0.4em;background-color: white;}#sk-container-id-2 div.sk-label label {font-family: monospace;font-weight: bold;display: inline-block;line-height: 1.2em;}#sk-container-id-2 div.sk-label-container {text-align: center;}#sk-container-id-2 div.sk-container {/* jupyter's `normalize.less` sets `[hidden] { display: none; }` but bootstrap.min.css set `[hidden] { display: none !important; }` so we also need the `!important` here to be able to override the default hidden behavior on the sphinx rendered scikit-learn.org. See: https://github.com/scikit-learn/scikit-learn/issues/21755 */display: inline-block !important;position: relative;}#sk-container-id-2 div.sk-text-repr-fallback {display: none;}</style><div id=\"sk-container-id-2\" class=\"sk-top-container\"><div class=\"sk-text-repr-fallback\"><pre>Pipeline(steps=[(&#x27;columntransformer&#x27;,\n                 ColumnTransformer(remainder=&#x27;passthrough&#x27;,\n                                   transformers=[(&#x27;onehotencoder&#x27;,\n                                                  OneHotEncoder(categories=[array([&#x27;Cattle&#x27;, &#x27;Chicken&#x27;, &#x27;Dog&#x27;, &#x27;Dogs&#x27;, &#x27;Donkey&#x27;, &#x27;Duck&#x27;, &#x27;Fowl&#x27;,\n       &#x27;Goat&#x27;, &#x27;Goats&#x27;, &#x27;Horse&#x27;, &#x27;Other Birds&#x27;, &#x27;Pig&#x27;, &#x27;Pigs&#x27;, &#x27;Rabbit&#x27;,\n       &#x27;Sheep&#x27;, &#x27;cat&#x27;, &#x27;cattle&#x27;, &#x27;chicken&#x27;, &#x27;cow&#x27;, &#x27;donkey&#x27;, &#x27;duck&#x27;,\n       &#x27;horse&#x27;], dtype=object),\n                                                                            array([&#x27; abortion...\n       &#x27;lameness&#x27;, &#x27;loss of\\xa0wariness&#x27;, &#x27;recumbency&#x27;,\n       &#x27;restless movement&#x27;, &#x27;slow growth&#x27;, &#x27;sudden death&#x27;,\n       &#x27;swollen abdomen&#x27;, &#x27;trembling&#x27;, &#x27;twisted neck&#x27;, &#x27;weakness&#x27;,\n       &#x27;\\xa0increased passing gas&#x27;, &#x27;\\xa0pain and bloating&#x27;], dtype=object)],\n                                                                handle_unknown=&#x27;ignore&#x27;),\n                                                  [&#x27;AnimalName&#x27;, &#x27;symptoms1&#x27;,\n                                                   &#x27;symptoms2&#x27;, &#x27;symptoms3&#x27;,\n                                                   &#x27;symptoms4&#x27;,\n                                                   &#x27;symptoms5&#x27;])])),\n                (&#x27;randomforestclassifier&#x27;, RandomForestClassifier())])</pre><b>In a Jupyter environment, please rerun this cell to show the HTML representation or trust the notebook. <br />On GitHub, the HTML representation is unable to render, please try loading this page with nbviewer.org.</b></div><div class=\"sk-container\" hidden><div class=\"sk-item sk-dashed-wrapped\"><div class=\"sk-label-container\"><div class=\"sk-label sk-toggleable\"><input class=\"sk-toggleable__control sk-hidden--visually\" id=\"sk-estimator-id-2\" type=\"checkbox\" ><label for=\"sk-estimator-id-2\" class=\"sk-toggleable__label sk-toggleable__label-arrow\">Pipeline</label><div class=\"sk-toggleable__content\"><pre>Pipeline(steps=[(&#x27;columntransformer&#x27;,\n                 ColumnTransformer(remainder=&#x27;passthrough&#x27;,\n                                   transformers=[(&#x27;onehotencoder&#x27;,\n                                                  OneHotEncoder(categories=[array([&#x27;Cattle&#x27;, &#x27;Chicken&#x27;, &#x27;Dog&#x27;, &#x27;Dogs&#x27;, &#x27;Donkey&#x27;, &#x27;Duck&#x27;, &#x27;Fowl&#x27;,\n       &#x27;Goat&#x27;, &#x27;Goats&#x27;, &#x27;Horse&#x27;, &#x27;Other Birds&#x27;, &#x27;Pig&#x27;, &#x27;Pigs&#x27;, &#x27;Rabbit&#x27;,\n       &#x27;Sheep&#x27;, &#x27;cat&#x27;, &#x27;cattle&#x27;, &#x27;chicken&#x27;, &#x27;cow&#x27;, &#x27;donkey&#x27;, &#x27;duck&#x27;,\n       &#x27;horse&#x27;], dtype=object),\n                                                                            array([&#x27; abortion...\n       &#x27;lameness&#x27;, &#x27;loss of\\xa0wariness&#x27;, &#x27;recumbency&#x27;,\n       &#x27;restless movement&#x27;, &#x27;slow growth&#x27;, &#x27;sudden death&#x27;,\n       &#x27;swollen abdomen&#x27;, &#x27;trembling&#x27;, &#x27;twisted neck&#x27;, &#x27;weakness&#x27;,\n       &#x27;\\xa0increased passing gas&#x27;, &#x27;\\xa0pain and bloating&#x27;], dtype=object)],\n                                                                handle_unknown=&#x27;ignore&#x27;),\n                                                  [&#x27;AnimalName&#x27;, &#x27;symptoms1&#x27;,\n                                                   &#x27;symptoms2&#x27;, &#x27;symptoms3&#x27;,\n                                                   &#x27;symptoms4&#x27;,\n                                                   &#x27;symptoms5&#x27;])])),\n                (&#x27;randomforestclassifier&#x27;, RandomForestClassifier())])</pre></div></div></div><div class=\"sk-serial\"><div class=\"sk-item sk-dashed-wrapped\"><div class=\"sk-label-container\"><div class=\"sk-label sk-toggleable\"><input class=\"sk-toggleable__control sk-hidden--visually\" id=\"sk-estimator-id-3\" type=\"checkbox\" ><label for=\"sk-estimator-id-3\" class=\"sk-toggleable__label sk-toggleable__label-arrow\">columntransformer: ColumnTransformer</label><div class=\"sk-toggleable__content\"><pre>ColumnTransformer(remainder=&#x27;passthrough&#x27;,\n                  transformers=[(&#x27;onehotencoder&#x27;,\n                                 OneHotEncoder(categories=[array([&#x27;Cattle&#x27;, &#x27;Chicken&#x27;, &#x27;Dog&#x27;, &#x27;Dogs&#x27;, &#x27;Donkey&#x27;, &#x27;Duck&#x27;, &#x27;Fowl&#x27;,\n       &#x27;Goat&#x27;, &#x27;Goats&#x27;, &#x27;Horse&#x27;, &#x27;Other Birds&#x27;, &#x27;Pig&#x27;, &#x27;Pigs&#x27;, &#x27;Rabbit&#x27;,\n       &#x27;Sheep&#x27;, &#x27;cat&#x27;, &#x27;cattle&#x27;, &#x27;chicken&#x27;, &#x27;cow&#x27;, &#x27;donkey&#x27;, &#x27;duck&#x27;,\n       &#x27;horse&#x27;], dtype=object),\n                                                           array([&#x27; abortion at the end of gestation&#x27;, &#x27;Abdominal pain&#x27;,...\n       &#x27;gasping for breath&#x27;, &#x27;inability to rise&#x27;, &#x27;lack of vocalizations&#x27;,\n       &#x27;lameness&#x27;, &#x27;loss of\\xa0wariness&#x27;, &#x27;recumbency&#x27;,\n       &#x27;restless movement&#x27;, &#x27;slow growth&#x27;, &#x27;sudden death&#x27;,\n       &#x27;swollen abdomen&#x27;, &#x27;trembling&#x27;, &#x27;twisted neck&#x27;, &#x27;weakness&#x27;,\n       &#x27;\\xa0increased passing gas&#x27;, &#x27;\\xa0pain and bloating&#x27;], dtype=object)],\n                                               handle_unknown=&#x27;ignore&#x27;),\n                                 [&#x27;AnimalName&#x27;, &#x27;symptoms1&#x27;, &#x27;symptoms2&#x27;,\n                                  &#x27;symptoms3&#x27;, &#x27;symptoms4&#x27;, &#x27;symptoms5&#x27;])])</pre></div></div></div><div class=\"sk-parallel\"><div class=\"sk-parallel-item\"><div class=\"sk-item\"><div class=\"sk-label-container\"><div class=\"sk-label sk-toggleable\"><input class=\"sk-toggleable__control sk-hidden--visually\" id=\"sk-estimator-id-4\" type=\"checkbox\" ><label for=\"sk-estimator-id-4\" class=\"sk-toggleable__label sk-toggleable__label-arrow\">onehotencoder</label><div class=\"sk-toggleable__content\"><pre>[&#x27;AnimalName&#x27;, &#x27;symptoms1&#x27;, &#x27;symptoms2&#x27;, &#x27;symptoms3&#x27;, &#x27;symptoms4&#x27;, &#x27;symptoms5&#x27;]</pre></div></div></div><div class=\"sk-serial\"><div class=\"sk-item\"><div class=\"sk-estimator sk-toggleable\"><input class=\"sk-toggleable__control sk-hidden--visually\" id=\"sk-estimator-id-5\" type=\"checkbox\" ><label for=\"sk-estimator-id-5\" class=\"sk-toggleable__label sk-toggleable__label-arrow\">OneHotEncoder</label><div class=\"sk-toggleable__content\"><pre>OneHotEncoder(categories=[array([&#x27;Cattle&#x27;, &#x27;Chicken&#x27;, &#x27;Dog&#x27;, &#x27;Dogs&#x27;, &#x27;Donkey&#x27;, &#x27;Duck&#x27;, &#x27;Fowl&#x27;,\n       &#x27;Goat&#x27;, &#x27;Goats&#x27;, &#x27;Horse&#x27;, &#x27;Other Birds&#x27;, &#x27;Pig&#x27;, &#x27;Pigs&#x27;, &#x27;Rabbit&#x27;,\n       &#x27;Sheep&#x27;, &#x27;cat&#x27;, &#x27;cattle&#x27;, &#x27;chicken&#x27;, &#x27;cow&#x27;, &#x27;donkey&#x27;, &#x27;duck&#x27;,\n       &#x27;horse&#x27;], dtype=object),\n                          array([&#x27; abortion at the end of gestation&#x27;, &#x27;Abdominal pain&#x27;, &#x27;Abortion &#x27;,\n       &#x27;Abortion on late pregancy&#x27;, &#x27;Allergic Reaction&#x27;,\n       &#x27;Animal gets uneasy&#x27;...\n       &#x27;depression&#x27;, &#x27;diarrhoea&#x27;, &#x27;difficulty moving and eating&#x27;,\n       &#x27;droopy wings&#x27;, &#x27;dull ness&#x27;, &#x27;extending its neck&#x27;, &#x27;fever&#x27;,\n       &#x27;gasping for breath&#x27;, &#x27;inability to rise&#x27;, &#x27;lack of vocalizations&#x27;,\n       &#x27;lameness&#x27;, &#x27;loss of\\xa0wariness&#x27;, &#x27;recumbency&#x27;,\n       &#x27;restless movement&#x27;, &#x27;slow growth&#x27;, &#x27;sudden death&#x27;,\n       &#x27;swollen abdomen&#x27;, &#x27;trembling&#x27;, &#x27;twisted neck&#x27;, &#x27;weakness&#x27;,\n       &#x27;\\xa0increased passing gas&#x27;, &#x27;\\xa0pain and bloating&#x27;], dtype=object)],\n              handle_unknown=&#x27;ignore&#x27;)</pre></div></div></div></div></div></div><div class=\"sk-parallel-item\"><div class=\"sk-item\"><div class=\"sk-label-container\"><div class=\"sk-label sk-toggleable\"><input class=\"sk-toggleable__control sk-hidden--visually\" id=\"sk-estimator-id-6\" type=\"checkbox\" ><label for=\"sk-estimator-id-6\" class=\"sk-toggleable__label sk-toggleable__label-arrow\">remainder</label><div class=\"sk-toggleable__content\"><pre></pre></div></div></div><div class=\"sk-serial\"><div class=\"sk-item\"><div class=\"sk-estimator sk-toggleable\"><input class=\"sk-toggleable__control sk-hidden--visually\" id=\"sk-estimator-id-7\" type=\"checkbox\" ><label for=\"sk-estimator-id-7\" class=\"sk-toggleable__label sk-toggleable__label-arrow\">passthrough</label><div class=\"sk-toggleable__content\"><pre>passthrough</pre></div></div></div></div></div></div></div></div><div class=\"sk-item\"><div class=\"sk-estimator sk-toggleable\"><input class=\"sk-toggleable__control sk-hidden--visually\" id=\"sk-estimator-id-8\" type=\"checkbox\" ><label for=\"sk-estimator-id-8\" class=\"sk-toggleable__label sk-toggleable__label-arrow\">RandomForestClassifier</label><div class=\"sk-toggleable__content\"><pre>RandomForestClassifier()</pre></div></div></div></div></div></div></div>"
     },
     "execution_count": 16,
     "metadata": {},
     "output_type": "execute_result"
    }
   ],
   "source": [
    "pipe=make_pipeline(a, model)\n",
    "pipe"
   ],
   "metadata": {
    "collapsed": false
   }
  },
  {
   "cell_type": "code",
   "execution_count": 17,
   "outputs": [
    {
     "data": {
      "text/plain": "Pipeline(steps=[('columntransformer',\n                 ColumnTransformer(remainder='passthrough',\n                                   transformers=[('onehotencoder',\n                                                  OneHotEncoder(categories=[array(['Cattle', 'Chicken', 'Dog', 'Dogs', 'Donkey', 'Duck', 'Fowl',\n       'Goat', 'Goats', 'Horse', 'Other Birds', 'Pig', 'Pigs', 'Rabbit',\n       'Sheep', 'cat', 'cattle', 'chicken', 'cow', 'donkey', 'duck',\n       'horse'], dtype=object),\n                                                                            array([' abortion...\n       'lameness', 'loss of\\xa0wariness', 'recumbency',\n       'restless movement', 'slow growth', 'sudden death',\n       'swollen abdomen', 'trembling', 'twisted neck', 'weakness',\n       '\\xa0increased passing gas', '\\xa0pain and bloating'], dtype=object)],\n                                                                handle_unknown='ignore'),\n                                                  ['AnimalName', 'symptoms1',\n                                                   'symptoms2', 'symptoms3',\n                                                   'symptoms4',\n                                                   'symptoms5'])])),\n                ('randomforestclassifier', RandomForestClassifier())])",
      "text/html": "<style>#sk-container-id-3 {color: black;background-color: white;}#sk-container-id-3 pre{padding: 0;}#sk-container-id-3 div.sk-toggleable {background-color: white;}#sk-container-id-3 label.sk-toggleable__label {cursor: pointer;display: block;width: 100%;margin-bottom: 0;padding: 0.3em;box-sizing: border-box;text-align: center;}#sk-container-id-3 label.sk-toggleable__label-arrow:before {content: \"▸\";float: left;margin-right: 0.25em;color: #696969;}#sk-container-id-3 label.sk-toggleable__label-arrow:hover:before {color: black;}#sk-container-id-3 div.sk-estimator:hover label.sk-toggleable__label-arrow:before {color: black;}#sk-container-id-3 div.sk-toggleable__content {max-height: 0;max-width: 0;overflow: hidden;text-align: left;background-color: #f0f8ff;}#sk-container-id-3 div.sk-toggleable__content pre {margin: 0.2em;color: black;border-radius: 0.25em;background-color: #f0f8ff;}#sk-container-id-3 input.sk-toggleable__control:checked~div.sk-toggleable__content {max-height: 200px;max-width: 100%;overflow: auto;}#sk-container-id-3 input.sk-toggleable__control:checked~label.sk-toggleable__label-arrow:before {content: \"▾\";}#sk-container-id-3 div.sk-estimator input.sk-toggleable__control:checked~label.sk-toggleable__label {background-color: #d4ebff;}#sk-container-id-3 div.sk-label input.sk-toggleable__control:checked~label.sk-toggleable__label {background-color: #d4ebff;}#sk-container-id-3 input.sk-hidden--visually {border: 0;clip: rect(1px 1px 1px 1px);clip: rect(1px, 1px, 1px, 1px);height: 1px;margin: -1px;overflow: hidden;padding: 0;position: absolute;width: 1px;}#sk-container-id-3 div.sk-estimator {font-family: monospace;background-color: #f0f8ff;border: 1px dotted black;border-radius: 0.25em;box-sizing: border-box;margin-bottom: 0.5em;}#sk-container-id-3 div.sk-estimator:hover {background-color: #d4ebff;}#sk-container-id-3 div.sk-parallel-item::after {content: \"\";width: 100%;border-bottom: 1px solid gray;flex-grow: 1;}#sk-container-id-3 div.sk-label:hover label.sk-toggleable__label {background-color: #d4ebff;}#sk-container-id-3 div.sk-serial::before {content: \"\";position: absolute;border-left: 1px solid gray;box-sizing: border-box;top: 0;bottom: 0;left: 50%;z-index: 0;}#sk-container-id-3 div.sk-serial {display: flex;flex-direction: column;align-items: center;background-color: white;padding-right: 0.2em;padding-left: 0.2em;position: relative;}#sk-container-id-3 div.sk-item {position: relative;z-index: 1;}#sk-container-id-3 div.sk-parallel {display: flex;align-items: stretch;justify-content: center;background-color: white;position: relative;}#sk-container-id-3 div.sk-item::before, #sk-container-id-3 div.sk-parallel-item::before {content: \"\";position: absolute;border-left: 1px solid gray;box-sizing: border-box;top: 0;bottom: 0;left: 50%;z-index: -1;}#sk-container-id-3 div.sk-parallel-item {display: flex;flex-direction: column;z-index: 1;position: relative;background-color: white;}#sk-container-id-3 div.sk-parallel-item:first-child::after {align-self: flex-end;width: 50%;}#sk-container-id-3 div.sk-parallel-item:last-child::after {align-self: flex-start;width: 50%;}#sk-container-id-3 div.sk-parallel-item:only-child::after {width: 0;}#sk-container-id-3 div.sk-dashed-wrapped {border: 1px dashed gray;margin: 0 0.4em 0.5em 0.4em;box-sizing: border-box;padding-bottom: 0.4em;background-color: white;}#sk-container-id-3 div.sk-label label {font-family: monospace;font-weight: bold;display: inline-block;line-height: 1.2em;}#sk-container-id-3 div.sk-label-container {text-align: center;}#sk-container-id-3 div.sk-container {/* jupyter's `normalize.less` sets `[hidden] { display: none; }` but bootstrap.min.css set `[hidden] { display: none !important; }` so we also need the `!important` here to be able to override the default hidden behavior on the sphinx rendered scikit-learn.org. See: https://github.com/scikit-learn/scikit-learn/issues/21755 */display: inline-block !important;position: relative;}#sk-container-id-3 div.sk-text-repr-fallback {display: none;}</style><div id=\"sk-container-id-3\" class=\"sk-top-container\"><div class=\"sk-text-repr-fallback\"><pre>Pipeline(steps=[(&#x27;columntransformer&#x27;,\n                 ColumnTransformer(remainder=&#x27;passthrough&#x27;,\n                                   transformers=[(&#x27;onehotencoder&#x27;,\n                                                  OneHotEncoder(categories=[array([&#x27;Cattle&#x27;, &#x27;Chicken&#x27;, &#x27;Dog&#x27;, &#x27;Dogs&#x27;, &#x27;Donkey&#x27;, &#x27;Duck&#x27;, &#x27;Fowl&#x27;,\n       &#x27;Goat&#x27;, &#x27;Goats&#x27;, &#x27;Horse&#x27;, &#x27;Other Birds&#x27;, &#x27;Pig&#x27;, &#x27;Pigs&#x27;, &#x27;Rabbit&#x27;,\n       &#x27;Sheep&#x27;, &#x27;cat&#x27;, &#x27;cattle&#x27;, &#x27;chicken&#x27;, &#x27;cow&#x27;, &#x27;donkey&#x27;, &#x27;duck&#x27;,\n       &#x27;horse&#x27;], dtype=object),\n                                                                            array([&#x27; abortion...\n       &#x27;lameness&#x27;, &#x27;loss of\\xa0wariness&#x27;, &#x27;recumbency&#x27;,\n       &#x27;restless movement&#x27;, &#x27;slow growth&#x27;, &#x27;sudden death&#x27;,\n       &#x27;swollen abdomen&#x27;, &#x27;trembling&#x27;, &#x27;twisted neck&#x27;, &#x27;weakness&#x27;,\n       &#x27;\\xa0increased passing gas&#x27;, &#x27;\\xa0pain and bloating&#x27;], dtype=object)],\n                                                                handle_unknown=&#x27;ignore&#x27;),\n                                                  [&#x27;AnimalName&#x27;, &#x27;symptoms1&#x27;,\n                                                   &#x27;symptoms2&#x27;, &#x27;symptoms3&#x27;,\n                                                   &#x27;symptoms4&#x27;,\n                                                   &#x27;symptoms5&#x27;])])),\n                (&#x27;randomforestclassifier&#x27;, RandomForestClassifier())])</pre><b>In a Jupyter environment, please rerun this cell to show the HTML representation or trust the notebook. <br />On GitHub, the HTML representation is unable to render, please try loading this page with nbviewer.org.</b></div><div class=\"sk-container\" hidden><div class=\"sk-item sk-dashed-wrapped\"><div class=\"sk-label-container\"><div class=\"sk-label sk-toggleable\"><input class=\"sk-toggleable__control sk-hidden--visually\" id=\"sk-estimator-id-9\" type=\"checkbox\" ><label for=\"sk-estimator-id-9\" class=\"sk-toggleable__label sk-toggleable__label-arrow\">Pipeline</label><div class=\"sk-toggleable__content\"><pre>Pipeline(steps=[(&#x27;columntransformer&#x27;,\n                 ColumnTransformer(remainder=&#x27;passthrough&#x27;,\n                                   transformers=[(&#x27;onehotencoder&#x27;,\n                                                  OneHotEncoder(categories=[array([&#x27;Cattle&#x27;, &#x27;Chicken&#x27;, &#x27;Dog&#x27;, &#x27;Dogs&#x27;, &#x27;Donkey&#x27;, &#x27;Duck&#x27;, &#x27;Fowl&#x27;,\n       &#x27;Goat&#x27;, &#x27;Goats&#x27;, &#x27;Horse&#x27;, &#x27;Other Birds&#x27;, &#x27;Pig&#x27;, &#x27;Pigs&#x27;, &#x27;Rabbit&#x27;,\n       &#x27;Sheep&#x27;, &#x27;cat&#x27;, &#x27;cattle&#x27;, &#x27;chicken&#x27;, &#x27;cow&#x27;, &#x27;donkey&#x27;, &#x27;duck&#x27;,\n       &#x27;horse&#x27;], dtype=object),\n                                                                            array([&#x27; abortion...\n       &#x27;lameness&#x27;, &#x27;loss of\\xa0wariness&#x27;, &#x27;recumbency&#x27;,\n       &#x27;restless movement&#x27;, &#x27;slow growth&#x27;, &#x27;sudden death&#x27;,\n       &#x27;swollen abdomen&#x27;, &#x27;trembling&#x27;, &#x27;twisted neck&#x27;, &#x27;weakness&#x27;,\n       &#x27;\\xa0increased passing gas&#x27;, &#x27;\\xa0pain and bloating&#x27;], dtype=object)],\n                                                                handle_unknown=&#x27;ignore&#x27;),\n                                                  [&#x27;AnimalName&#x27;, &#x27;symptoms1&#x27;,\n                                                   &#x27;symptoms2&#x27;, &#x27;symptoms3&#x27;,\n                                                   &#x27;symptoms4&#x27;,\n                                                   &#x27;symptoms5&#x27;])])),\n                (&#x27;randomforestclassifier&#x27;, RandomForestClassifier())])</pre></div></div></div><div class=\"sk-serial\"><div class=\"sk-item sk-dashed-wrapped\"><div class=\"sk-label-container\"><div class=\"sk-label sk-toggleable\"><input class=\"sk-toggleable__control sk-hidden--visually\" id=\"sk-estimator-id-10\" type=\"checkbox\" ><label for=\"sk-estimator-id-10\" class=\"sk-toggleable__label sk-toggleable__label-arrow\">columntransformer: ColumnTransformer</label><div class=\"sk-toggleable__content\"><pre>ColumnTransformer(remainder=&#x27;passthrough&#x27;,\n                  transformers=[(&#x27;onehotencoder&#x27;,\n                                 OneHotEncoder(categories=[array([&#x27;Cattle&#x27;, &#x27;Chicken&#x27;, &#x27;Dog&#x27;, &#x27;Dogs&#x27;, &#x27;Donkey&#x27;, &#x27;Duck&#x27;, &#x27;Fowl&#x27;,\n       &#x27;Goat&#x27;, &#x27;Goats&#x27;, &#x27;Horse&#x27;, &#x27;Other Birds&#x27;, &#x27;Pig&#x27;, &#x27;Pigs&#x27;, &#x27;Rabbit&#x27;,\n       &#x27;Sheep&#x27;, &#x27;cat&#x27;, &#x27;cattle&#x27;, &#x27;chicken&#x27;, &#x27;cow&#x27;, &#x27;donkey&#x27;, &#x27;duck&#x27;,\n       &#x27;horse&#x27;], dtype=object),\n                                                           array([&#x27; abortion at the end of gestation&#x27;, &#x27;Abdominal pain&#x27;,...\n       &#x27;gasping for breath&#x27;, &#x27;inability to rise&#x27;, &#x27;lack of vocalizations&#x27;,\n       &#x27;lameness&#x27;, &#x27;loss of\\xa0wariness&#x27;, &#x27;recumbency&#x27;,\n       &#x27;restless movement&#x27;, &#x27;slow growth&#x27;, &#x27;sudden death&#x27;,\n       &#x27;swollen abdomen&#x27;, &#x27;trembling&#x27;, &#x27;twisted neck&#x27;, &#x27;weakness&#x27;,\n       &#x27;\\xa0increased passing gas&#x27;, &#x27;\\xa0pain and bloating&#x27;], dtype=object)],\n                                               handle_unknown=&#x27;ignore&#x27;),\n                                 [&#x27;AnimalName&#x27;, &#x27;symptoms1&#x27;, &#x27;symptoms2&#x27;,\n                                  &#x27;symptoms3&#x27;, &#x27;symptoms4&#x27;, &#x27;symptoms5&#x27;])])</pre></div></div></div><div class=\"sk-parallel\"><div class=\"sk-parallel-item\"><div class=\"sk-item\"><div class=\"sk-label-container\"><div class=\"sk-label sk-toggleable\"><input class=\"sk-toggleable__control sk-hidden--visually\" id=\"sk-estimator-id-11\" type=\"checkbox\" ><label for=\"sk-estimator-id-11\" class=\"sk-toggleable__label sk-toggleable__label-arrow\">onehotencoder</label><div class=\"sk-toggleable__content\"><pre>[&#x27;AnimalName&#x27;, &#x27;symptoms1&#x27;, &#x27;symptoms2&#x27;, &#x27;symptoms3&#x27;, &#x27;symptoms4&#x27;, &#x27;symptoms5&#x27;]</pre></div></div></div><div class=\"sk-serial\"><div class=\"sk-item\"><div class=\"sk-estimator sk-toggleable\"><input class=\"sk-toggleable__control sk-hidden--visually\" id=\"sk-estimator-id-12\" type=\"checkbox\" ><label for=\"sk-estimator-id-12\" class=\"sk-toggleable__label sk-toggleable__label-arrow\">OneHotEncoder</label><div class=\"sk-toggleable__content\"><pre>OneHotEncoder(categories=[array([&#x27;Cattle&#x27;, &#x27;Chicken&#x27;, &#x27;Dog&#x27;, &#x27;Dogs&#x27;, &#x27;Donkey&#x27;, &#x27;Duck&#x27;, &#x27;Fowl&#x27;,\n       &#x27;Goat&#x27;, &#x27;Goats&#x27;, &#x27;Horse&#x27;, &#x27;Other Birds&#x27;, &#x27;Pig&#x27;, &#x27;Pigs&#x27;, &#x27;Rabbit&#x27;,\n       &#x27;Sheep&#x27;, &#x27;cat&#x27;, &#x27;cattle&#x27;, &#x27;chicken&#x27;, &#x27;cow&#x27;, &#x27;donkey&#x27;, &#x27;duck&#x27;,\n       &#x27;horse&#x27;], dtype=object),\n                          array([&#x27; abortion at the end of gestation&#x27;, &#x27;Abdominal pain&#x27;, &#x27;Abortion &#x27;,\n       &#x27;Abortion on late pregancy&#x27;, &#x27;Allergic Reaction&#x27;,\n       &#x27;Animal gets uneasy&#x27;...\n       &#x27;depression&#x27;, &#x27;diarrhoea&#x27;, &#x27;difficulty moving and eating&#x27;,\n       &#x27;droopy wings&#x27;, &#x27;dull ness&#x27;, &#x27;extending its neck&#x27;, &#x27;fever&#x27;,\n       &#x27;gasping for breath&#x27;, &#x27;inability to rise&#x27;, &#x27;lack of vocalizations&#x27;,\n       &#x27;lameness&#x27;, &#x27;loss of\\xa0wariness&#x27;, &#x27;recumbency&#x27;,\n       &#x27;restless movement&#x27;, &#x27;slow growth&#x27;, &#x27;sudden death&#x27;,\n       &#x27;swollen abdomen&#x27;, &#x27;trembling&#x27;, &#x27;twisted neck&#x27;, &#x27;weakness&#x27;,\n       &#x27;\\xa0increased passing gas&#x27;, &#x27;\\xa0pain and bloating&#x27;], dtype=object)],\n              handle_unknown=&#x27;ignore&#x27;)</pre></div></div></div></div></div></div><div class=\"sk-parallel-item\"><div class=\"sk-item\"><div class=\"sk-label-container\"><div class=\"sk-label sk-toggleable\"><input class=\"sk-toggleable__control sk-hidden--visually\" id=\"sk-estimator-id-13\" type=\"checkbox\" ><label for=\"sk-estimator-id-13\" class=\"sk-toggleable__label sk-toggleable__label-arrow\">remainder</label><div class=\"sk-toggleable__content\"><pre>[]</pre></div></div></div><div class=\"sk-serial\"><div class=\"sk-item\"><div class=\"sk-estimator sk-toggleable\"><input class=\"sk-toggleable__control sk-hidden--visually\" id=\"sk-estimator-id-14\" type=\"checkbox\" ><label for=\"sk-estimator-id-14\" class=\"sk-toggleable__label sk-toggleable__label-arrow\">passthrough</label><div class=\"sk-toggleable__content\"><pre>passthrough</pre></div></div></div></div></div></div></div></div><div class=\"sk-item\"><div class=\"sk-estimator sk-toggleable\"><input class=\"sk-toggleable__control sk-hidden--visually\" id=\"sk-estimator-id-15\" type=\"checkbox\" ><label for=\"sk-estimator-id-15\" class=\"sk-toggleable__label sk-toggleable__label-arrow\">RandomForestClassifier</label><div class=\"sk-toggleable__content\"><pre>RandomForestClassifier()</pre></div></div></div></div></div></div></div>"
     },
     "execution_count": 17,
     "metadata": {},
     "output_type": "execute_result"
    }
   ],
   "source": [
    "pipe.fit(x_train, y_train)"
   ],
   "metadata": {
    "collapsed": false
   }
  },
  {
   "cell_type": "code",
   "execution_count": 18,
   "outputs": [
    {
     "data": {
      "text/plain": "Pipeline(steps=[('columntransformer',\n                 ColumnTransformer(remainder='passthrough',\n                                   transformers=[('onehotencoder',\n                                                  OneHotEncoder(categories=[array(['Cattle', 'Chicken', 'Dog', 'Dogs', 'Donkey', 'Duck', 'Fowl',\n       'Goat', 'Goats', 'Horse', 'Other Birds', 'Pig', 'Pigs', 'Rabbit',\n       'Sheep', 'cat', 'cattle', 'chicken', 'cow', 'donkey', 'duck',\n       'horse'], dtype=object),\n                                                                            array([' abortion...\n       'lameness', 'loss of\\xa0wariness', 'recumbency',\n       'restless movement', 'slow growth', 'sudden death',\n       'swollen abdomen', 'trembling', 'twisted neck', 'weakness',\n       '\\xa0increased passing gas', '\\xa0pain and bloating'], dtype=object)],\n                                                                handle_unknown='ignore'),\n                                                  ['AnimalName', 'symptoms1',\n                                                   'symptoms2', 'symptoms3',\n                                                   'symptoms4',\n                                                   'symptoms5'])])),\n                ('decisiontreeclassifier', DecisionTreeClassifier())])",
      "text/html": "<style>#sk-container-id-4 {color: black;background-color: white;}#sk-container-id-4 pre{padding: 0;}#sk-container-id-4 div.sk-toggleable {background-color: white;}#sk-container-id-4 label.sk-toggleable__label {cursor: pointer;display: block;width: 100%;margin-bottom: 0;padding: 0.3em;box-sizing: border-box;text-align: center;}#sk-container-id-4 label.sk-toggleable__label-arrow:before {content: \"▸\";float: left;margin-right: 0.25em;color: #696969;}#sk-container-id-4 label.sk-toggleable__label-arrow:hover:before {color: black;}#sk-container-id-4 div.sk-estimator:hover label.sk-toggleable__label-arrow:before {color: black;}#sk-container-id-4 div.sk-toggleable__content {max-height: 0;max-width: 0;overflow: hidden;text-align: left;background-color: #f0f8ff;}#sk-container-id-4 div.sk-toggleable__content pre {margin: 0.2em;color: black;border-radius: 0.25em;background-color: #f0f8ff;}#sk-container-id-4 input.sk-toggleable__control:checked~div.sk-toggleable__content {max-height: 200px;max-width: 100%;overflow: auto;}#sk-container-id-4 input.sk-toggleable__control:checked~label.sk-toggleable__label-arrow:before {content: \"▾\";}#sk-container-id-4 div.sk-estimator input.sk-toggleable__control:checked~label.sk-toggleable__label {background-color: #d4ebff;}#sk-container-id-4 div.sk-label input.sk-toggleable__control:checked~label.sk-toggleable__label {background-color: #d4ebff;}#sk-container-id-4 input.sk-hidden--visually {border: 0;clip: rect(1px 1px 1px 1px);clip: rect(1px, 1px, 1px, 1px);height: 1px;margin: -1px;overflow: hidden;padding: 0;position: absolute;width: 1px;}#sk-container-id-4 div.sk-estimator {font-family: monospace;background-color: #f0f8ff;border: 1px dotted black;border-radius: 0.25em;box-sizing: border-box;margin-bottom: 0.5em;}#sk-container-id-4 div.sk-estimator:hover {background-color: #d4ebff;}#sk-container-id-4 div.sk-parallel-item::after {content: \"\";width: 100%;border-bottom: 1px solid gray;flex-grow: 1;}#sk-container-id-4 div.sk-label:hover label.sk-toggleable__label {background-color: #d4ebff;}#sk-container-id-4 div.sk-serial::before {content: \"\";position: absolute;border-left: 1px solid gray;box-sizing: border-box;top: 0;bottom: 0;left: 50%;z-index: 0;}#sk-container-id-4 div.sk-serial {display: flex;flex-direction: column;align-items: center;background-color: white;padding-right: 0.2em;padding-left: 0.2em;position: relative;}#sk-container-id-4 div.sk-item {position: relative;z-index: 1;}#sk-container-id-4 div.sk-parallel {display: flex;align-items: stretch;justify-content: center;background-color: white;position: relative;}#sk-container-id-4 div.sk-item::before, #sk-container-id-4 div.sk-parallel-item::before {content: \"\";position: absolute;border-left: 1px solid gray;box-sizing: border-box;top: 0;bottom: 0;left: 50%;z-index: -1;}#sk-container-id-4 div.sk-parallel-item {display: flex;flex-direction: column;z-index: 1;position: relative;background-color: white;}#sk-container-id-4 div.sk-parallel-item:first-child::after {align-self: flex-end;width: 50%;}#sk-container-id-4 div.sk-parallel-item:last-child::after {align-self: flex-start;width: 50%;}#sk-container-id-4 div.sk-parallel-item:only-child::after {width: 0;}#sk-container-id-4 div.sk-dashed-wrapped {border: 1px dashed gray;margin: 0 0.4em 0.5em 0.4em;box-sizing: border-box;padding-bottom: 0.4em;background-color: white;}#sk-container-id-4 div.sk-label label {font-family: monospace;font-weight: bold;display: inline-block;line-height: 1.2em;}#sk-container-id-4 div.sk-label-container {text-align: center;}#sk-container-id-4 div.sk-container {/* jupyter's `normalize.less` sets `[hidden] { display: none; }` but bootstrap.min.css set `[hidden] { display: none !important; }` so we also need the `!important` here to be able to override the default hidden behavior on the sphinx rendered scikit-learn.org. See: https://github.com/scikit-learn/scikit-learn/issues/21755 */display: inline-block !important;position: relative;}#sk-container-id-4 div.sk-text-repr-fallback {display: none;}</style><div id=\"sk-container-id-4\" class=\"sk-top-container\"><div class=\"sk-text-repr-fallback\"><pre>Pipeline(steps=[(&#x27;columntransformer&#x27;,\n                 ColumnTransformer(remainder=&#x27;passthrough&#x27;,\n                                   transformers=[(&#x27;onehotencoder&#x27;,\n                                                  OneHotEncoder(categories=[array([&#x27;Cattle&#x27;, &#x27;Chicken&#x27;, &#x27;Dog&#x27;, &#x27;Dogs&#x27;, &#x27;Donkey&#x27;, &#x27;Duck&#x27;, &#x27;Fowl&#x27;,\n       &#x27;Goat&#x27;, &#x27;Goats&#x27;, &#x27;Horse&#x27;, &#x27;Other Birds&#x27;, &#x27;Pig&#x27;, &#x27;Pigs&#x27;, &#x27;Rabbit&#x27;,\n       &#x27;Sheep&#x27;, &#x27;cat&#x27;, &#x27;cattle&#x27;, &#x27;chicken&#x27;, &#x27;cow&#x27;, &#x27;donkey&#x27;, &#x27;duck&#x27;,\n       &#x27;horse&#x27;], dtype=object),\n                                                                            array([&#x27; abortion...\n       &#x27;lameness&#x27;, &#x27;loss of\\xa0wariness&#x27;, &#x27;recumbency&#x27;,\n       &#x27;restless movement&#x27;, &#x27;slow growth&#x27;, &#x27;sudden death&#x27;,\n       &#x27;swollen abdomen&#x27;, &#x27;trembling&#x27;, &#x27;twisted neck&#x27;, &#x27;weakness&#x27;,\n       &#x27;\\xa0increased passing gas&#x27;, &#x27;\\xa0pain and bloating&#x27;], dtype=object)],\n                                                                handle_unknown=&#x27;ignore&#x27;),\n                                                  [&#x27;AnimalName&#x27;, &#x27;symptoms1&#x27;,\n                                                   &#x27;symptoms2&#x27;, &#x27;symptoms3&#x27;,\n                                                   &#x27;symptoms4&#x27;,\n                                                   &#x27;symptoms5&#x27;])])),\n                (&#x27;decisiontreeclassifier&#x27;, DecisionTreeClassifier())])</pre><b>In a Jupyter environment, please rerun this cell to show the HTML representation or trust the notebook. <br />On GitHub, the HTML representation is unable to render, please try loading this page with nbviewer.org.</b></div><div class=\"sk-container\" hidden><div class=\"sk-item sk-dashed-wrapped\"><div class=\"sk-label-container\"><div class=\"sk-label sk-toggleable\"><input class=\"sk-toggleable__control sk-hidden--visually\" id=\"sk-estimator-id-16\" type=\"checkbox\" ><label for=\"sk-estimator-id-16\" class=\"sk-toggleable__label sk-toggleable__label-arrow\">Pipeline</label><div class=\"sk-toggleable__content\"><pre>Pipeline(steps=[(&#x27;columntransformer&#x27;,\n                 ColumnTransformer(remainder=&#x27;passthrough&#x27;,\n                                   transformers=[(&#x27;onehotencoder&#x27;,\n                                                  OneHotEncoder(categories=[array([&#x27;Cattle&#x27;, &#x27;Chicken&#x27;, &#x27;Dog&#x27;, &#x27;Dogs&#x27;, &#x27;Donkey&#x27;, &#x27;Duck&#x27;, &#x27;Fowl&#x27;,\n       &#x27;Goat&#x27;, &#x27;Goats&#x27;, &#x27;Horse&#x27;, &#x27;Other Birds&#x27;, &#x27;Pig&#x27;, &#x27;Pigs&#x27;, &#x27;Rabbit&#x27;,\n       &#x27;Sheep&#x27;, &#x27;cat&#x27;, &#x27;cattle&#x27;, &#x27;chicken&#x27;, &#x27;cow&#x27;, &#x27;donkey&#x27;, &#x27;duck&#x27;,\n       &#x27;horse&#x27;], dtype=object),\n                                                                            array([&#x27; abortion...\n       &#x27;lameness&#x27;, &#x27;loss of\\xa0wariness&#x27;, &#x27;recumbency&#x27;,\n       &#x27;restless movement&#x27;, &#x27;slow growth&#x27;, &#x27;sudden death&#x27;,\n       &#x27;swollen abdomen&#x27;, &#x27;trembling&#x27;, &#x27;twisted neck&#x27;, &#x27;weakness&#x27;,\n       &#x27;\\xa0increased passing gas&#x27;, &#x27;\\xa0pain and bloating&#x27;], dtype=object)],\n                                                                handle_unknown=&#x27;ignore&#x27;),\n                                                  [&#x27;AnimalName&#x27;, &#x27;symptoms1&#x27;,\n                                                   &#x27;symptoms2&#x27;, &#x27;symptoms3&#x27;,\n                                                   &#x27;symptoms4&#x27;,\n                                                   &#x27;symptoms5&#x27;])])),\n                (&#x27;decisiontreeclassifier&#x27;, DecisionTreeClassifier())])</pre></div></div></div><div class=\"sk-serial\"><div class=\"sk-item sk-dashed-wrapped\"><div class=\"sk-label-container\"><div class=\"sk-label sk-toggleable\"><input class=\"sk-toggleable__control sk-hidden--visually\" id=\"sk-estimator-id-17\" type=\"checkbox\" ><label for=\"sk-estimator-id-17\" class=\"sk-toggleable__label sk-toggleable__label-arrow\">columntransformer: ColumnTransformer</label><div class=\"sk-toggleable__content\"><pre>ColumnTransformer(remainder=&#x27;passthrough&#x27;,\n                  transformers=[(&#x27;onehotencoder&#x27;,\n                                 OneHotEncoder(categories=[array([&#x27;Cattle&#x27;, &#x27;Chicken&#x27;, &#x27;Dog&#x27;, &#x27;Dogs&#x27;, &#x27;Donkey&#x27;, &#x27;Duck&#x27;, &#x27;Fowl&#x27;,\n       &#x27;Goat&#x27;, &#x27;Goats&#x27;, &#x27;Horse&#x27;, &#x27;Other Birds&#x27;, &#x27;Pig&#x27;, &#x27;Pigs&#x27;, &#x27;Rabbit&#x27;,\n       &#x27;Sheep&#x27;, &#x27;cat&#x27;, &#x27;cattle&#x27;, &#x27;chicken&#x27;, &#x27;cow&#x27;, &#x27;donkey&#x27;, &#x27;duck&#x27;,\n       &#x27;horse&#x27;], dtype=object),\n                                                           array([&#x27; abortion at the end of gestation&#x27;, &#x27;Abdominal pain&#x27;,...\n       &#x27;gasping for breath&#x27;, &#x27;inability to rise&#x27;, &#x27;lack of vocalizations&#x27;,\n       &#x27;lameness&#x27;, &#x27;loss of\\xa0wariness&#x27;, &#x27;recumbency&#x27;,\n       &#x27;restless movement&#x27;, &#x27;slow growth&#x27;, &#x27;sudden death&#x27;,\n       &#x27;swollen abdomen&#x27;, &#x27;trembling&#x27;, &#x27;twisted neck&#x27;, &#x27;weakness&#x27;,\n       &#x27;\\xa0increased passing gas&#x27;, &#x27;\\xa0pain and bloating&#x27;], dtype=object)],\n                                               handle_unknown=&#x27;ignore&#x27;),\n                                 [&#x27;AnimalName&#x27;, &#x27;symptoms1&#x27;, &#x27;symptoms2&#x27;,\n                                  &#x27;symptoms3&#x27;, &#x27;symptoms4&#x27;, &#x27;symptoms5&#x27;])])</pre></div></div></div><div class=\"sk-parallel\"><div class=\"sk-parallel-item\"><div class=\"sk-item\"><div class=\"sk-label-container\"><div class=\"sk-label sk-toggleable\"><input class=\"sk-toggleable__control sk-hidden--visually\" id=\"sk-estimator-id-18\" type=\"checkbox\" ><label for=\"sk-estimator-id-18\" class=\"sk-toggleable__label sk-toggleable__label-arrow\">onehotencoder</label><div class=\"sk-toggleable__content\"><pre>[&#x27;AnimalName&#x27;, &#x27;symptoms1&#x27;, &#x27;symptoms2&#x27;, &#x27;symptoms3&#x27;, &#x27;symptoms4&#x27;, &#x27;symptoms5&#x27;]</pre></div></div></div><div class=\"sk-serial\"><div class=\"sk-item\"><div class=\"sk-estimator sk-toggleable\"><input class=\"sk-toggleable__control sk-hidden--visually\" id=\"sk-estimator-id-19\" type=\"checkbox\" ><label for=\"sk-estimator-id-19\" class=\"sk-toggleable__label sk-toggleable__label-arrow\">OneHotEncoder</label><div class=\"sk-toggleable__content\"><pre>OneHotEncoder(categories=[array([&#x27;Cattle&#x27;, &#x27;Chicken&#x27;, &#x27;Dog&#x27;, &#x27;Dogs&#x27;, &#x27;Donkey&#x27;, &#x27;Duck&#x27;, &#x27;Fowl&#x27;,\n       &#x27;Goat&#x27;, &#x27;Goats&#x27;, &#x27;Horse&#x27;, &#x27;Other Birds&#x27;, &#x27;Pig&#x27;, &#x27;Pigs&#x27;, &#x27;Rabbit&#x27;,\n       &#x27;Sheep&#x27;, &#x27;cat&#x27;, &#x27;cattle&#x27;, &#x27;chicken&#x27;, &#x27;cow&#x27;, &#x27;donkey&#x27;, &#x27;duck&#x27;,\n       &#x27;horse&#x27;], dtype=object),\n                          array([&#x27; abortion at the end of gestation&#x27;, &#x27;Abdominal pain&#x27;, &#x27;Abortion &#x27;,\n       &#x27;Abortion on late pregancy&#x27;, &#x27;Allergic Reaction&#x27;,\n       &#x27;Animal gets uneasy&#x27;...\n       &#x27;depression&#x27;, &#x27;diarrhoea&#x27;, &#x27;difficulty moving and eating&#x27;,\n       &#x27;droopy wings&#x27;, &#x27;dull ness&#x27;, &#x27;extending its neck&#x27;, &#x27;fever&#x27;,\n       &#x27;gasping for breath&#x27;, &#x27;inability to rise&#x27;, &#x27;lack of vocalizations&#x27;,\n       &#x27;lameness&#x27;, &#x27;loss of\\xa0wariness&#x27;, &#x27;recumbency&#x27;,\n       &#x27;restless movement&#x27;, &#x27;slow growth&#x27;, &#x27;sudden death&#x27;,\n       &#x27;swollen abdomen&#x27;, &#x27;trembling&#x27;, &#x27;twisted neck&#x27;, &#x27;weakness&#x27;,\n       &#x27;\\xa0increased passing gas&#x27;, &#x27;\\xa0pain and bloating&#x27;], dtype=object)],\n              handle_unknown=&#x27;ignore&#x27;)</pre></div></div></div></div></div></div><div class=\"sk-parallel-item\"><div class=\"sk-item\"><div class=\"sk-label-container\"><div class=\"sk-label sk-toggleable\"><input class=\"sk-toggleable__control sk-hidden--visually\" id=\"sk-estimator-id-20\" type=\"checkbox\" ><label for=\"sk-estimator-id-20\" class=\"sk-toggleable__label sk-toggleable__label-arrow\">remainder</label><div class=\"sk-toggleable__content\"><pre>[]</pre></div></div></div><div class=\"sk-serial\"><div class=\"sk-item\"><div class=\"sk-estimator sk-toggleable\"><input class=\"sk-toggleable__control sk-hidden--visually\" id=\"sk-estimator-id-21\" type=\"checkbox\" ><label for=\"sk-estimator-id-21\" class=\"sk-toggleable__label sk-toggleable__label-arrow\">passthrough</label><div class=\"sk-toggleable__content\"><pre>passthrough</pre></div></div></div></div></div></div></div></div><div class=\"sk-item\"><div class=\"sk-estimator sk-toggleable\"><input class=\"sk-toggleable__control sk-hidden--visually\" id=\"sk-estimator-id-22\" type=\"checkbox\" ><label for=\"sk-estimator-id-22\" class=\"sk-toggleable__label sk-toggleable__label-arrow\">DecisionTreeClassifier</label><div class=\"sk-toggleable__content\"><pre>DecisionTreeClassifier()</pre></div></div></div></div></div></div></div>"
     },
     "execution_count": 18,
     "metadata": {},
     "output_type": "execute_result"
    }
   ],
   "source": [
    "pipe= make_pipeline(a, dtree)\n",
    "pipe"
   ],
   "metadata": {
    "collapsed": false
   }
  },
  {
   "cell_type": "code",
   "execution_count": 19,
   "outputs": [
    {
     "ename": "NotFittedError",
     "evalue": "This DecisionTreeClassifier instance is not fitted yet. Call 'fit' with appropriate arguments before using this estimator.",
     "output_type": "error",
     "traceback": [
      "\u001B[1;31m---------------------------------------------------------------------------\u001B[0m",
      "\u001B[1;31mNotFittedError\u001B[0m                            Traceback (most recent call last)",
      "Cell \u001B[1;32mIn [19], line 1\u001B[0m\n\u001B[1;32m----> 1\u001B[0m \u001B[43mpipe\u001B[49m\u001B[38;5;241;43m.\u001B[39;49m\u001B[43mpredict\u001B[49m\u001B[43m(\u001B[49m\u001B[43mx_test\u001B[49m\u001B[43m)\u001B[49m\n",
      "File \u001B[1;32m~\\PycharmProjects\\flaskProject1\\venv\\lib\\site-packages\\sklearn\\pipeline.py:458\u001B[0m, in \u001B[0;36mPipeline.predict\u001B[1;34m(self, X, **predict_params)\u001B[0m\n\u001B[0;32m    456\u001B[0m \u001B[38;5;28;01mfor\u001B[39;00m _, name, transform \u001B[38;5;129;01min\u001B[39;00m \u001B[38;5;28mself\u001B[39m\u001B[38;5;241m.\u001B[39m_iter(with_final\u001B[38;5;241m=\u001B[39m\u001B[38;5;28;01mFalse\u001B[39;00m):\n\u001B[0;32m    457\u001B[0m     Xt \u001B[38;5;241m=\u001B[39m transform\u001B[38;5;241m.\u001B[39mtransform(Xt)\n\u001B[1;32m--> 458\u001B[0m \u001B[38;5;28;01mreturn\u001B[39;00m \u001B[38;5;28mself\u001B[39m\u001B[38;5;241m.\u001B[39msteps[\u001B[38;5;241m-\u001B[39m\u001B[38;5;241m1\u001B[39m][\u001B[38;5;241m1\u001B[39m]\u001B[38;5;241m.\u001B[39mpredict(Xt, \u001B[38;5;241m*\u001B[39m\u001B[38;5;241m*\u001B[39mpredict_params)\n",
      "File \u001B[1;32m~\\PycharmProjects\\flaskProject1\\venv\\lib\\site-packages\\sklearn\\tree\\_classes.py:504\u001B[0m, in \u001B[0;36mBaseDecisionTree.predict\u001B[1;34m(self, X, check_input)\u001B[0m\n\u001B[0;32m    481\u001B[0m \u001B[38;5;28;01mdef\u001B[39;00m \u001B[38;5;21mpredict\u001B[39m(\u001B[38;5;28mself\u001B[39m, X, check_input\u001B[38;5;241m=\u001B[39m\u001B[38;5;28;01mTrue\u001B[39;00m):\n\u001B[0;32m    482\u001B[0m     \u001B[38;5;124;03m\"\"\"Predict class or regression value for X.\u001B[39;00m\n\u001B[0;32m    483\u001B[0m \n\u001B[0;32m    484\u001B[0m \u001B[38;5;124;03m    For a classification model, the predicted class for each sample in X is\u001B[39;00m\n\u001B[1;32m   (...)\u001B[0m\n\u001B[0;32m    502\u001B[0m \u001B[38;5;124;03m        The predicted classes, or the predict values.\u001B[39;00m\n\u001B[0;32m    503\u001B[0m \u001B[38;5;124;03m    \"\"\"\u001B[39;00m\n\u001B[1;32m--> 504\u001B[0m     \u001B[43mcheck_is_fitted\u001B[49m\u001B[43m(\u001B[49m\u001B[38;5;28;43mself\u001B[39;49m\u001B[43m)\u001B[49m\n\u001B[0;32m    505\u001B[0m     X \u001B[38;5;241m=\u001B[39m \u001B[38;5;28mself\u001B[39m\u001B[38;5;241m.\u001B[39m_validate_X_predict(X, check_input)\n\u001B[0;32m    506\u001B[0m     proba \u001B[38;5;241m=\u001B[39m \u001B[38;5;28mself\u001B[39m\u001B[38;5;241m.\u001B[39mtree_\u001B[38;5;241m.\u001B[39mpredict(X)\n",
      "File \u001B[1;32m~\\PycharmProjects\\flaskProject1\\venv\\lib\\site-packages\\sklearn\\utils\\validation.py:1345\u001B[0m, in \u001B[0;36mcheck_is_fitted\u001B[1;34m(estimator, attributes, msg, all_or_any)\u001B[0m\n\u001B[0;32m   1340\u001B[0m     fitted \u001B[38;5;241m=\u001B[39m [\n\u001B[0;32m   1341\u001B[0m         v \u001B[38;5;28;01mfor\u001B[39;00m v \u001B[38;5;129;01min\u001B[39;00m \u001B[38;5;28mvars\u001B[39m(estimator) \u001B[38;5;28;01mif\u001B[39;00m v\u001B[38;5;241m.\u001B[39mendswith(\u001B[38;5;124m\"\u001B[39m\u001B[38;5;124m_\u001B[39m\u001B[38;5;124m\"\u001B[39m) \u001B[38;5;129;01mand\u001B[39;00m \u001B[38;5;129;01mnot\u001B[39;00m v\u001B[38;5;241m.\u001B[39mstartswith(\u001B[38;5;124m\"\u001B[39m\u001B[38;5;124m__\u001B[39m\u001B[38;5;124m\"\u001B[39m)\n\u001B[0;32m   1342\u001B[0m     ]\n\u001B[0;32m   1344\u001B[0m \u001B[38;5;28;01mif\u001B[39;00m \u001B[38;5;129;01mnot\u001B[39;00m fitted:\n\u001B[1;32m-> 1345\u001B[0m     \u001B[38;5;28;01mraise\u001B[39;00m NotFittedError(msg \u001B[38;5;241m%\u001B[39m {\u001B[38;5;124m\"\u001B[39m\u001B[38;5;124mname\u001B[39m\u001B[38;5;124m\"\u001B[39m: \u001B[38;5;28mtype\u001B[39m(estimator)\u001B[38;5;241m.\u001B[39m\u001B[38;5;18m__name__\u001B[39m})\n",
      "\u001B[1;31mNotFittedError\u001B[0m: This DecisionTreeClassifier instance is not fitted yet. Call 'fit' with appropriate arguments before using this estimator."
     ]
    }
   ],
   "source": [
    "pipe.predict(x_test)"
   ],
   "metadata": {
    "collapsed": false
   }
  },
  {
   "cell_type": "code",
   "execution_count": null,
   "outputs": [],
   "source": [
    "pipe.score(x_test, y_test)"
   ],
   "metadata": {
    "collapsed": false
   }
  },
  {
   "cell_type": "code",
   "execution_count": null,
   "outputs": [],
   "source": [
    "pipe.score(x_train, y_train)"
   ],
   "metadata": {
    "collapsed": false
   }
  },
  {
   "cell_type": "code",
   "execution_count": null,
   "outputs": [],
   "source": [],
   "metadata": {
    "collapsed": false
   }
  },
  {
   "cell_type": "code",
   "execution_count": null,
   "outputs": [],
   "source": [
    "import pickle"
   ],
   "metadata": {
    "collapsed": false
   }
  },
  {
   "cell_type": "code",
   "execution_count": null,
   "outputs": [],
   "source": [
    "pickle.dump(pipe, open('random1.pkl', 'wb'))"
   ],
   "metadata": {
    "collapsed": false
   }
  },
  {
   "cell_type": "code",
   "execution_count": null,
   "outputs": [],
   "source": [
    "pipe.predict(pd.DataFrame([['Snake','Fever','Difficulty breathing','Poor Appetite','Eye and Skin change','Unable to exercise']],columns=['AnimalName','symptoms1','symptoms2','symptoms3','symptoms4','symptoms5']))"
   ],
   "metadata": {
    "collapsed": false
   }
  },
  {
   "cell_type": "code",
   "execution_count": null,
   "outputs": [],
   "source": [],
   "metadata": {
    "collapsed": false
   }
  }
 ],
 "metadata": {
  "kernelspec": {
   "display_name": "Python 3",
   "language": "python",
   "name": "python3"
  },
  "language_info": {
   "codemirror_mode": {
    "name": "ipython",
    "version": 2
   },
   "file_extension": ".py",
   "mimetype": "text/x-python",
   "name": "python",
   "nbconvert_exporter": "python",
   "pygments_lexer": "ipython2",
   "version": "2.7.6"
  }
 },
 "nbformat": 4,
 "nbformat_minor": 0
}
